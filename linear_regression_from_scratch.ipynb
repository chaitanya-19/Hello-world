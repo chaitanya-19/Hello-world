{
 "cells": [
  {
   "cell_type": "markdown",
   "metadata": {},
   "source": [
    "#                             Linear Regression "
   ]
  },
  {
   "cell_type": "markdown",
   "metadata": {},
   "source": [
    "Linear Regression is one of the most famous and most basic Machine Learning Algorithm used for Regression tasks i.e to predict continious values of Ywhen X is given.\n",
    "\n",
    "Regression is one of the famous statistical tool in order to establish relationships between dependent and independent variables i.e X and Y\n",
    "\n",
    "We can use multiple dependent variables to predict the independent variables but for simplicity we restrict our discussion to two variables\n",
    "\n",
    "We basically plot the given data and try to establish the relationship between the varibles by fitting a line on the data.\n",
    "\n",
    "In order to get good accurracy we have fit a line such that the error between the predicted value and actual value is very less( 0 ideally).\n",
    "\n",
    "So the fit of the values is goverened by two parameters slope and intercept.\n",
    "\n",
    "Slope decides how inclined the line is and intercept decides it position on\n",
    " y axis"
   ]
  },
  {
   "cell_type": "code",
   "execution_count": 13,
   "metadata": {},
   "outputs": [
    {
     "data": {
      "text/html": [
       "<img src=\"https://www.onclick360.com/wp-content/uploads/2018/12/linear-regression.jpg\"/>"
      ],
      "text/plain": [
       "<IPython.core.display.Image object>"
      ]
     },
     "execution_count": 13,
     "metadata": {},
     "output_type": "execute_result"
    }
   ],
   "source": [
    "from IPython.display import Image\n",
    "Image(url= \"https://www.onclick360.com/wp-content/uploads/2018/12/linear-regression.jpg\")"
   ]
  },
  {
   "cell_type": "markdown",
   "metadata": {},
   "source": [
    "## Generating Dataset"
   ]
  },
  {
   "cell_type": "code",
   "execution_count": 1,
   "metadata": {},
   "outputs": [
    {
     "name": "stderr",
     "output_type": "stream",
     "text": [
      "C:\\Users\\chait\\Anaconda3\\lib\\site-packages\\sklearn\\utils\\deprecation.py:143: FutureWarning: The sklearn.datasets.samples_generator module is  deprecated in version 0.22 and will be removed in version 0.24. The corresponding classes / functions should instead be imported from sklearn.datasets. Anything that cannot be imported from sklearn.datasets is now part of the private API.\n",
      "  warnings.warn(message, FutureWarning)\n"
     ]
    }
   ],
   "source": [
    "from sklearn.datasets.samples_generator import make_regression\n",
    "X, y = make_regression(n_samples=200, n_features=1,noise=2, bias=30, random_state=200)\n",
    "m = 200"
   ]
  },
  {
   "cell_type": "markdown",
   "metadata": {},
   "source": [
    "## Visualizing the dataset"
   ]
  },
  {
   "cell_type": "code",
   "execution_count": 2,
   "metadata": {},
   "outputs": [
    {
     "data": {
      "image/png": "[encoded data removed]",
      "text/plain": [
       "<Figure size 432x288 with 1 Axes>"
      ]
     },
     "metadata": {
      "needs_background": "light"
     },
     "output_type": "display_data"
    }
   ],
   "source": [
    "from matplotlib import pyplot as plt\n",
    "plt.scatter(X,y, c = \"red\",alpha=.5, marker = 'o')\n",
    "plt.xlabel(\"X\")\n",
    "plt.ylabel(\"Y\")\n",
    "plt.show()"
   ]
  },
  {
   "cell_type": "markdown",
   "metadata": {},
   "source": [
    "## Defining the Linear Model"
   ]
  },
  {
   "cell_type": "code",
   "execution_count": 3,
   "metadata": {},
   "outputs": [],
   "source": [
    "import numpy as np\n",
    "def h(X,w):\n",
    "    return (w[1]*np.array(X[:,0])+w[0])"
   ]
  },
  {
   "cell_type": "markdown",
   "metadata": {},
   "source": [
    "## Defining the Cost Function"
   ]
  },
  {
   "cell_type": "code",
   "execution_count": 12,
   "metadata": {},
   "outputs": [
    {
     "data": {
      "text/html": [
       "<img src=\"https://encrypted-tbn0.gstatic.com/images?q=tbn%3AANd9GcTXoAxkB6z1ykBSLCQkM9aAk0pR881GBMnmgQ&usqp=CAU\"/>"
      ],
      "text/plain": [
       "<IPython.core.display.Image object>"
      ]
     },
     "execution_count": 12,
     "metadata": {},
     "output_type": "execute_result"
    }
   ],
   "source": [
    "from IPython.display import Image\n",
    "Image(url= \"https://encrypted-tbn0.gstatic.com/images?q=tbn%3AANd9GcTXoAxkB6z1ykBSLCQkM9aAk0pR881GBMnmgQ&usqp=CAU\")"
   ]
  },
  {
   "cell_type": "code",
   "execution_count": 4,
   "metadata": {},
   "outputs": [],
   "source": [
    "def cost(w,X,y):\n",
    "    return (.5/m) * np.sum(np.square(h(X,w)-np.array(y)))"
   ]
  },
  {
   "cell_type": "markdown",
   "metadata": {},
   "source": [
    "## Gradient Descent Optimization Algorithm"
   ]
  },
  {
   "cell_type": "code",
   "execution_count": 11,
   "metadata": {},
   "outputs": [
    {
     "data": {
      "text/html": [
       "<img src=\"https://i.stack.imgur.com/gie8S.png\"/>"
      ],
      "text/plain": [
       "<IPython.core.display.Image object>"
      ]
     },
     "execution_count": 11,
     "metadata": {},
     "output_type": "execute_result"
    }
   ],
   "source": [
    "from IPython.display import Image\n",
    "Image(url= \"https://i.stack.imgur.com/gie8S.png\")"
   ]
  },
  {
   "cell_type": "code",
   "execution_count": 5,
   "metadata": {},
   "outputs": [],
   "source": [
    "def grad(w,X,y):\n",
    "    g = [0]*2\n",
    "    g[0] = (1/m) * np.sum(h(X,w)-np.array(y))\n",
    "    g[1] = (1/m) * np.sum((h(X,w)-np.array(y))*np.array(X[:,0]))\n",
    "    return g"
   ]
  },
  {
   "cell_type": "code",
   "execution_count": 6,
   "metadata": {},
   "outputs": [],
   "source": [
    "\n",
    "def descent(w_new, w_prev, lr):\n",
    "    print(w_prev)\n",
    "    print(cost(w_prev,X,y))\n",
    "    j=0\n",
    "    while True:\n",
    "        w_prev = w_new\n",
    "        w0 = w_prev[0] - lr*grad(w_prev,X,y)[0]\n",
    "        w1 = w_prev[1] - lr*grad(w_prev,X,y)[1]\n",
    "        w_new = [w0, w1]\n",
    "        print(w_new)\n",
    "        print(cost(w_new,X,y))\n",
    "        if (w_new[0]-w_prev[0])**2 + (w_new[1]-w_prev[1])**2 <= pow(10,-6):\n",
    "            return w_new\n",
    "        if j>500: \n",
    "            return w_new\n",
    "        j+=1"
   ]
  },
  {
   "cell_type": "markdown",
   "metadata": {},
   "source": [
    "## Initilizing Parameters"
   ]
  },
  {
   "cell_type": "code",
   "execution_count": 7,
   "metadata": {},
   "outputs": [],
   "source": [
    "w = [0,-1]"
   ]
  },
  {
   "cell_type": "markdown",
   "metadata": {},
   "source": [
    "## Training the Model"
   ]
  },
  {
   "cell_type": "code",
   "execution_count": 8,
   "metadata": {},
   "outputs": [
    {
     "name": "stdout",
     "output_type": "stream",
     "text": [
      "[0, -1]\n",
      "514.1701912323092\n",
      "[3.0761881945949785, 0.07580924437328274]\n",
      "413.481610231917\n",
      "[5.836791499424546, 1.028842108070773]\n",
      "332.6169932819258\n",
      "[8.314277528652152, 1.872847655790685]\n",
      "267.6690393219881\n",
      "[10.537765326998432, 2.6200565426639035]\n",
      "215.5013038866035\n",
      "[12.53337147008894, 3.2813469478957056]\n",
      "173.59599607026587\n",
      "[14.324520326074307, 3.866392521853145]\n",
      "139.93184845500596\n",
      "[15.932222195581094, 4.383794283850751]\n",
      "112.88611449007051\n",
      "[17.37532266100086, 4.841198200292898]\n",
      "91.15592386079541\n",
      "[18.67072613021668, 5.245399987391733]\n",
      "73.69516970174561\n",
      "[19.833596249921797, 5.602438517038264]\n",
      "59.66385817025034\n",
      "[20.877535585961784, 5.9176790564546335]\n",
      "48.387457849253444\n",
      "[21.81474671927581, 6.1958874401145785]\n",
      "39.32427332519831\n",
      "[22.65617668302121, 6.441296154403478]\n",
      "32.039257852517565\n",
      "[23.411646466646967, 6.657663210094726]\n",
      "26.1829933310644\n",
      "[24.08996713362538, 6.848324583600656]\n",
      "21.47481717304404\n",
      "[24.69904393909761, 7.016240923912075]\n",
      "17.689277282142307\n",
      "[25.24596968990269, 7.1640391470964415]\n",
      "14.645258143220499\n",
      "[25.737108460607846, 7.294049473220829]\n",
      "12.197250813452683\n",
      "[26.178170663687617, 7.408338400744168]\n",
      "10.22834374147198\n",
      "[26.574280368518778, 7.508738060017129]\n",
      "8.64459489439568\n",
      "[26.930035671121242, 7.596872339852311]\n",
      "7.370512713862199\n",
      "[27.2495628334648, 7.674180138569924]\n",
      "6.345427216455752\n",
      "[27.53656483667764, 7.741936052937851]\n",
      "5.520575720209769\n",
      "[27.79436492573813, 7.801268784521104]\n",
      "4.8567623182734705\n",
      "[28.025945663403455, 7.853177512697522]\n",
      "4.322478018742491\n",
      "[28.233983957507782, 7.898546456593943]\n",
      "3.8923907782107188\n",
      "[28.420882477703454, 7.938157824101456]\n",
      "3.5461325605377185\n",
      "[28.5887978346442, 7.972703324628284]\n",
      "3.267324921906052\n",
      "[28.739665856001263, 8.00279440306623]\n",
      "3.0427961566789636\n",
      "[28.87522425909823, 8.028971335332923]\n",
      "2.8619522960559096\n",
      "[28.997032988932375, 8.051711310585386]\n",
      "2.716271682534942\n",
      "[29.10649246254736, 8.071435611582514]\n",
      "2.5988988083755724\n",
      "[29.204859935800002, 8.088515992527697]\n",
      "2.5043178950007374\n",
      "[29.293264186224242, 8.103280342890193]\n",
      "2.4280905347960533\n",
      "[29.37271868566968, 8.11601771604339]\n",
      "2.366644803403833\n",
      "[29.444133418440554, 8.126982792943963]\n",
      "2.3171057289083876\n",
      "[29.50832548456855, 8.136399843395425]\n",
      "2.2771589942795205\n",
      "[29.566028613426234, 8.144466240592065]\n",
      "2.244941347398612\n",
      "[29.61790169995492, 8.15135557853517]\n",
      "2.218952476239426\n",
      "[29.66453646418617, 8.157220436472404]\n",
      "2.1979841373596325\n",
      "[29.706464324341198, 8.162194829661807]\n",
      "2.1810631535812495\n",
      "[29.744162564473132, 8.166396381440286]\n",
      "2.167405561575252\n",
      "[29.77805986926146, 8.169928247725428]\n",
      "2.156379724108686\n",
      "[29.80854129107665, 8.172880821648416]\n",
      "2.147476650723735\n",
      "[29.83595270771595, 8.175333242959054]\n",
      "2.140286115280073\n",
      "[29.860604823188897, 8.177354734121066]\n",
      "2.1344774357100356\n",
      "[29.88277675853085, 8.179005782590654]\n",
      "2.1297840038431737\n",
      "[29.902719274780722, 8.180339186611537]\n",
      "2.1259908319587604\n",
      "[29.920657665917133, 8.181400979936543]\n",
      "2.122924526418252\n",
      "[29.936794355653607, 8.182231249173556]\n",
      "2.120445214218481\n",
      "[29.951311228502064, 8.182864855929422]\n",
      "2.1184400411349404\n",
      "[29.964371722382655, 8.183332074568613]\n",
      "2.1168179347460345\n",
      "[29.976122707250212, 8.183659155196091]\n",
      "2.1155053856203234\n",
      "[29.98669617168931, 8.183868820399383]\n",
      "2.114443048182924\n",
      "[29.99621073717158, 8.183980703328958]\n",
      "2.113583001562332\n",
      "[30.004773017643434, 8.184011733845747]\n",
      "2.112886541909324\n",
      "[30.012478840295696, 8.1839764787083]\n",
      "2.112322402765227\n",
      "[30.01941434173729, 8.183887441099582]\n",
      "2.1118653202347004\n",
      "[30.02565695233362, 8.183755324195458]\n",
      "2.1114948759503895\n",
      "[30.0312762801595, 8.18358926294533]\n",
      "2.111194563876395\n",
      "[30.036334904840484, 8.18339702776301]\n",
      "2.1109510375058442\n",
      "[30.040889090501796, 8.183185203406033]\n",
      "2.1107535024644206\n",
      "[30.044989426097832, 8.1829593459487]\n",
      "2.110593226338014\n",
      "[30.048681400546354, 8.18272412042277]\n",
      "2.110463143021351\n",
      "[30.05200591933007, 8.182483421405552]\n",
      "2.11035753329529\n",
      "[30.054999768545155, 8.182240478573837]\n",
      "2.1102717668918887\n",
      "[30.057696031763296, 8.181997949010317]\n",
      "2.1102020941663238\n",
      "[30.06012446452405, 8.181757997843214]\n",
      "2.1101454777982154\n",
      "[30.062311830780846, 8.181522368617337]\n",
      "2.1100994568004117\n",
      "[30.064282205181296, 8.181292444632748]\n",
      "2.1100620366082117\n",
      "[30.066057244665302, 8.18106930234361]\n",
      "2.110031600226608\n",
      "[30.067656432507924, 8.18085375778243]\n",
      "2.110006836383919\n",
      "[30.069097297614224, 8.180646406862012]\n",
      "2.1099866814227237\n",
      "[30.070395611586186, 8.18044766030749]\n",
      "2.109970272289877\n",
      "[30.071565565824294, 8.180257773882131]\n",
      "2.1099569084960694\n",
      "[30.072619930695122, 8.180076874492233]\n",
      "2.1099460213256807\n",
      "[30.073570198588882, 8.179904982686924]\n",
      "2.1099371489085614\n",
      "[30.073570198588882, 8.179904982686924]\n"
     ]
    }
   ],
   "source": [
    "w = descent(w,w,.1)\n",
    "print(w)"
   ]
  },
  {
   "cell_type": "markdown",
   "metadata": {},
   "source": [
    "## Visualizing the fit"
   ]
  },
  {
   "cell_type": "code",
   "execution_count": 9,
   "metadata": {},
   "outputs": [
    {
     "data": {
      "image/png": "[encoded data removed]",
      "text/plain": [
       "<Figure size 432x288 with 1 Axes>"
      ]
     },
     "metadata": {
      "needs_background": "light"
     },
     "output_type": "display_data"
    }
   ],
   "source": [
    "def graph(formula, x_range):  \n",
    "    x = np.array(x_range)  \n",
    "    y = formula(x)  \n",
    "    plt.plot(x, y)  \n",
    "    \n",
    "def my_formula(x):\n",
    "    return w[0]+w[1]*x\n",
    "\n",
    "plt.scatter(X,y, c = \"red\",alpha=.5, marker = 'o')\n",
    "graph(my_formula, range(-5,5))\n",
    "plt.xlabel('X')\n",
    "plt.ylabel('Y')\n",
    "plt.show()"
   ]
  },
  {
   "cell_type": "code",
   "execution_count": null,
   "metadata": {},
   "outputs": [],
   "source": []
  }
 ],
 "metadata": {
  "kernelspec": {
   "display_name": "Python 3",
   "language": "python",
   "name": "python3"
  },
  "language_info": {
   "codemirror_mode": {
    "name": "ipython",
    "version": 3
   },
   "file_extension": ".py",
   "mimetype": "text/x-python",
   "name": "python",
   "nbconvert_exporter": "python",
   "pygments_lexer": "ipython3",
   "version": "3.7.7"
  }
 },
 "nbformat": 4,
 "nbformat_minor": 4
}
